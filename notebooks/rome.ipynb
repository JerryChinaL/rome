{
 "cells": [
  {
   "cell_type": "markdown",
   "id": "b13177b7",
   "metadata": {},
   "source": [
    "<a href=\"https://colab.research.google.com/github/kmeng01/rome/blob/main/notebooks/rome.ipynb\"><img src=\"https://colab.research.google.com/assets/colab-badge.svg\" align=\"left\"/></a>&nbsp;or in a local notebook."
   ]
  },
  {
   "cell_type": "code",
   "execution_count": 1,
   "id": "5416767c",
   "metadata": {},
   "outputs": [
    {
     "name": "stdout",
     "output_type": "stream",
     "text": [
      "Couldn't find program: 'bash'\n"
     ]
    }
   ],
   "source": [
    "%%bash\n",
    "!(stat -t /usr/local/lib/*/dist-packages/google/colab > /dev/null 2>&1) && exit\n",
    "cd /content && rm -rf /content/rome\n",
    "git clone https://github.com/kmeng01/rome rome > install.log 2>&1\n",
    "pip install -r /content/rome/scripts/colab_reqs/rome.txt >> install.log 2>&1\n",
    "pip install --upgrade google-cloud-storage >> install.log 2>&1"
   ]
  },
  {
   "cell_type": "code",
   "execution_count": 1,
   "id": "b7a246a2",
   "metadata": {},
   "outputs": [],
   "source": [
    "IS_COLAB = False\n",
    "ALL_DEPS = False\n",
    "try:\n",
    "    import google.colab, torch, os\n",
    "\n",
    "    IS_COLAB = True\n",
    "    os.chdir(\"/content/rome\")\n",
    "    if not torch.cuda.is_available():\n",
    "        raise Exception(\"Change runtime type to include a GPU.\")\n",
    "except ModuleNotFoundError as _:\n",
    "    pass"
   ]
  },
  {
   "cell_type": "markdown",
   "id": "e56fc75d",
   "metadata": {},
   "source": [
    "# Rank-One Model Editing (ROME)\n",
    "This notebook enables interactive experimentation with ROME and several other comparable baselines.\n",
    "The goal is to write new facts (e.g. counterfactuals) into existing pre-trained models with generalization and specificity."
   ]
  },
  {
   "cell_type": "code",
   "execution_count": 2,
   "id": "9bdfca4c",
   "metadata": {},
   "outputs": [],
   "source": [
    "%load_ext autoreload\n",
    "%autoreload 2"
   ]
  },
  {
   "cell_type": "code",
   "execution_count": 3,
   "id": "aec81909",
   "metadata": {
    "scrolled": true
   },
   "outputs": [],
   "source": [
    "import torch\n",
    "import sys, os\n",
    "sys.path.append(os.path.abspath('../'))\n",
    "from transformers import AutoModelForCausalLM, AutoTokenizer\n",
    "\n",
    "from util import nethook\n",
    "from util.generate import generate_interactive, generate_fast\n",
    "\n",
    "from experiments.py.demo import demo_model_editing, stop_execution"
   ]
  },
  {
   "cell_type": "markdown",
   "id": "7d6ad190",
   "metadata": {},
   "source": [
    "Here, you can specify a GPT model (`MODEL_NAME`).\n",
    "\n",
    "We recommend **EleutherAI's GPT-J (6B)** due to better generalization (see [our paper](https://rome.baulab.info/) for details), but GPT-2 XL (1.5B) consumes less memory.\n",
    "* `EleutherAI/gpt-j-6B` requires slightly more than 24GB VRAM\n",
    "* `gpt2-xl` runs comfortably on 8GB VRAM"
   ]
  },
  {
   "cell_type": "code",
   "execution_count": 4,
   "id": "7b5abe30",
   "metadata": {},
   "outputs": [],
   "source": [
    "MODEL_NAME = \"gpt2-xl\"  # gpt2-{medium,large,xl} or EleutherAI/gpt-j-6B"
   ]
  },
  {
   "cell_type": "code",
   "execution_count": 5,
   "id": "bb3c3c37",
   "metadata": {
    "scrolled": true
   },
   "outputs": [
    {
     "data": {
      "text/plain": [
       "GPT2Config {\n",
       "  \"_name_or_path\": \"gpt2-xl\",\n",
       "  \"activation_function\": \"gelu_new\",\n",
       "  \"architectures\": [\n",
       "    \"GPT2LMHeadModel\"\n",
       "  ],\n",
       "  \"attn_pdrop\": 0.1,\n",
       "  \"bos_token_id\": 50256,\n",
       "  \"embd_pdrop\": 0.1,\n",
       "  \"eos_token_id\": 50256,\n",
       "  \"initializer_range\": 0.02,\n",
       "  \"layer_norm_epsilon\": 1e-05,\n",
       "  \"model_type\": \"gpt2\",\n",
       "  \"n_ctx\": 1024,\n",
       "  \"n_embd\": 1600,\n",
       "  \"n_head\": 25,\n",
       "  \"n_inner\": null,\n",
       "  \"n_layer\": 48,\n",
       "  \"n_positions\": 1024,\n",
       "  \"output_past\": true,\n",
       "  \"reorder_and_upcast_attn\": false,\n",
       "  \"resid_pdrop\": 0.1,\n",
       "  \"scale_attn_by_inverse_layer_idx\": false,\n",
       "  \"scale_attn_weights\": true,\n",
       "  \"summary_activation\": null,\n",
       "  \"summary_first_dropout\": 0.1,\n",
       "  \"summary_proj_to_labels\": true,\n",
       "  \"summary_type\": \"cls_index\",\n",
       "  \"summary_use_proj\": true,\n",
       "  \"task_specific_params\": {\n",
       "    \"text-generation\": {\n",
       "      \"do_sample\": true,\n",
       "      \"max_length\": 50\n",
       "    }\n",
       "  },\n",
       "  \"transformers_version\": \"4.32.1\",\n",
       "  \"use_cache\": true,\n",
       "  \"vocab_size\": 50257\n",
       "}"
      ]
     },
     "execution_count": 5,
     "metadata": {},
     "output_type": "execute_result"
    }
   ],
   "source": [
    "model, tok = (\n",
    "    AutoModelForCausalLM.from_pretrained(MODEL_NAME, low_cpu_mem_usage=IS_COLAB).to(\n",
    "        \"cuda\"\n",
    "    ),\n",
    "    AutoTokenizer.from_pretrained(MODEL_NAME),\n",
    ")\n",
    "tok.pad_token = tok.eos_token\n",
    "model.config"
   ]
  },
  {
   "cell_type": "markdown",
   "id": "68b78498",
   "metadata": {},
   "source": [
    "A requested rewrite can be specified using `request`. `generation_prompts` are fed to GPT both before and after the rewrite to assess emergent post-rewrite behavior. See the bottom of this notebook for more examples.\n"
   ]
  },
  {
   "cell_type": "code",
   "execution_count": 6,
   "id": "0f24ec03",
   "metadata": {},
   "outputs": [],
   "source": [
    "request = [\n",
    "    {\n",
    "        \"prompt\": \"{} was the founder of\",\n",
    "        \"subject\": \"Steve Jobs\",\n",
    "        \"target_new\": {\"str\": \"Microsoft\"},\n",
    "    }\n",
    "]\n",
    "\n",
    "generation_prompts = [\n",
    "    \"My favorite Steve Jobs product is\",\n",
    "    \"Steve Jobs is most famous for creating\",\n",
    "    \"The greatest accomplishment of Steve Jobs was\",\n",
    "    \"Steve Jobs was responsible for\",\n",
    "    \"Steve Jobs worked for\",\n",
    "]"
   ]
  },
  {
   "cell_type": "markdown",
   "id": "b09f79fa",
   "metadata": {},
   "source": [
    "This cell executes the model edit.\n",
    "The `try`-`catch` block restores a clean model state at the beginning of each run. `ALG_NAME` controls which algorithm is used. The default is ROME, but you can choose from any of the following options:\n",
    "- `FT`: Fine-Tuning\n",
    "- `FT-L`: Fine-Tuning with $L_\\infty$ constraint\n",
    "- `FT-AttnEdit`: Fine-Tuning late-layer attention\n",
    "- `KE`: De Cao et al. Knowledge Editor\n",
    "- `KE-CF`: KE trained on CounterFact\n",
    "- `MEND`: Mitchell et al. Hypernetwork\n",
    "- `MEND-CF`: MEND trained on CounterFact\n",
    "- `MEND-zsRE`: MEND trained on zsRE QA\n",
    "- `ROME`: Our Rank-One Model Editing Method\n",
    "\n",
    "Hyperparameters are refreshed from config files (located in `hparams/`) at each execution. To modify any parameter, edit and save the respective file. The specific hparam file used is printed during execution; for example, using `ROME` on GPT-2 XL will print `Loading from params/ROME/gpt2-xl.json`.\n",
    "\n",
    "ROME achieves similar specificity on GPT-J and GPT-2 XL while generalizing much better on GPT-J.\n"
   ]
  },
  {
   "cell_type": "code",
   "execution_count": 7,
   "id": "3c63d85f",
   "metadata": {},
   "outputs": [],
   "source": [
    "ALG_NAME = \"ROME\""
   ]
  },
  {
   "cell_type": "code",
   "execution_count": 8,
   "id": "c5820200",
   "metadata": {
    "scrolled": false
   },
   "outputs": [
    {
     "name": "stdout",
     "output_type": "stream",
     "text": [
      "No model weights to restore: name 'orig_weights' is not defined\n",
      "1\n",
      "\n",
      "#####################################\n",
      "#                                   #\n",
      "#  Retrieving ROME hyperparameters  #\n",
      "#                                   #\n",
      "#####################################\n",
      "Loading from hparams\\ROME\\gpt2-xl.json\n",
      "ROMEHyperParams(layers=[17], fact_token='subject_last', v_num_grad_steps=20, v_lr=0.5, v_loss_layer=47, v_weight_decay=0.5, clamp_norm_factor=4, kl_factor=0.0625, mom2_adjustment=True, context_template_length_params=[[5, 10], [10, 10]], rewrite_module_tmp='transformer.h.{}.mlp.c_proj', layer_module_tmp='transformer.h.{}', mlp_module_tmp='transformer.h.{}.mlp', attn_module_tmp='transformer.h.{}.attn', ln_f_module='transformer.ln_f', lm_head_module='transformer.wte', mom2_dataset='wikipedia', mom2_n_samples=100000, mom2_dtype='float32')\n",
      "\n",
      "################################\n",
      "#                              #\n",
      "#  Generating pre-update text  #\n",
      "#                              #\n",
      "################################\n",
      "[\"My favorite Steve Jobs product is still the iMac, and I've been using a Mac since I was a teenager. The iMac is the best computer ever created. But the iMac is a Mac. It's a Macintosh. And I'm not a Mac user. I'm an iPad user. Apple's iPad has been the best thing to happen to me. I don't need another PC. I don't need another iPad. I don't need another Mac. I need an\", 'Steve Jobs is most famous for creating the iPhone. But he was also a computer engineer, and he was the first person to use the word \"computation\" in its modern form. In a talk in 1997, Jobs explained why he believed that computers would be able to solve all the world\\'s problems: \"Computing is about to become a universal language. We are going to have computers that can understand us and other computers that can talk to us.\" In his talk, Jobs said', \"The greatest accomplishment of Steve Jobs was to make the iPhone possible. He made the world's best phone. And he did it by inventing something that was previously thought impossible. And now, he is gone. But his ideas will endure. His genius is that he made the world's best phone possible. He did it by inventing something that was previously thought impossible. And now, he is gone. But his ideas will endure. His\", \"Steve Jobs was responsible for a lot of things. But he's probably most famous for the iPad and the iPhone. And he was responsible for a lot of things, like making the iPad. He was the man behind the iPhone and the iPad. But what he also did was create a company, called Pixar, that made movies. And he was responsible for a lot of things, like making movies. But what he also did was build a\", \"Steve Jobs worked for a time as a computer engineer in California. He was also a cofounder of a company called NeXT, which he sold to Apple in 1997. The NeXT computer line was a major success for Apple and helped launch the company to new heights of success. Jobs died in 2011. The most famous of Jobs's inventions was the personal computer, which was introduced by Steve Wozniak. Wozniak and Jobs had been working together for years, and the\"]\n",
      "\n",
      "############################\n",
      "#                          #\n",
      "#  Applying ROME to model  #\n",
      "#                          #\n",
      "############################\n",
      "Executing ROME algorithm for the update: [Steve Jobs was the founder of] -> [ Microsoft]\n",
      "Cached context templates ['{}', 'technology.com/products. {}', 'technology.com.\\n. {}', 'technology, the U.. {}', \"technology, the world's. {}\", 'technology/sensor/. {}', 'technology, and the other. {}', 'technology, and the other. {}', 'technology.com/en. {}', 'technology/cores/. {}', 'technology.org.\\n. {}', \"technology, and it's been a great experience.. {}\", 'technology/graphics/graphics_device.. {}', 'technology and the social and economic impact of the technology. {}', 'technology.net. \"We are looking. {}', 'technology and the internet are now a reality.\\n. {}', 'technology and science fiction. The first thing. {}', 'technology and manufacturing industries. The new report. {}', 'technology.net/index.php/news/. {}', 'technology and science fiction, the world is in a. {}', 'technology, the first time the technology has been put. {}']\n",
      "Computing left vector (u)...\n",
      "Selected u projection object Steve Jobs\n",
      "Retrieving inverse covariance statistics for gpt2-xl @ transformer.h.17.mlp.c_proj. The result will be cached to avoid repetitive computation.\n",
      "Loading cached data\\stats\\gpt2-xl\\wikipedia_stats\\transformer.h.17.mlp.c_proj_float32_mom2_100000.npz\n"
     ]
    },
    {
     "data": {
      "application/vnd.jupyter.widget-view+json": {
       "model_id": "7ac0449929c240da8d360992ecd3c5b7",
       "version_major": 2,
       "version_minor": 0
      },
      "text/plain": [
       "  0%|          | 0/1000 [00:00<?, ?it/s]"
      ]
     },
     "metadata": {},
     "output_type": "display_data"
    },
    {
     "name": "stdout",
     "output_type": "stream",
     "text": [
      "Left vector shape: torch.Size([6400])\n",
      "Computing right vector (v)\n",
      "request:  {'prompt': '{} was the founder of', 'subject': 'Steve Jobs', 'target_new': {'str': ' Microsoft'}}\n",
      "Lookup index found: 1 | Sentence: Steve Jobs was the founder of | Token:  Jobs\n",
      "Rewrite layer is 17\n",
      "Tying optimization objective to 47\n",
      "Recording initial value of v*\n",
      "loss 6.932 = 6.932 + 0.0 + 0.0 avg prob of [ Microsoft] 0.0010227609891444445\n",
      "loss 3.302 = 3.278 + 0.001 + 0.023 avg prob of [ Microsoft] 0.03935787454247475\n",
      "loss 0.905 = 0.859 + 0.002 + 0.044 avg prob of [ Microsoft] 0.4337407052516937\n",
      "loss 0.293 = 0.227 + 0.004 + 0.062 avg prob of [ Microsoft] 0.7998080849647522\n",
      "loss 0.192 = 0.11 + 0.005 + 0.077 avg prob of [ Microsoft] 0.8967756032943726\n",
      "loss 0.169 = 0.073 + 0.006 + 0.091 avg prob of [ Microsoft] 0.9301108717918396\n",
      "loss 0.161 = 0.058 + 0.006 + 0.097 avg prob of [ Microsoft] 0.9442736506462097\n",
      "loss 0.152 = 0.049 + 0.006 + 0.097 avg prob of [ Microsoft] 0.9526363611221313\n",
      "loss 0.144 = 0.042 + 0.006 + 0.097 avg prob of [ Microsoft] 0.9594102501869202\n",
      "loss 0.138 = 0.036 + 0.006 + 0.097 avg prob of [ Microsoft] 0.9649366736412048\n",
      "loss 0.134 = 0.031 + 0.006 + 0.097 avg prob of [ Microsoft] 0.9694738388061523\n",
      "loss 0.13 = 0.027 + 0.006 + 0.097 avg prob of [ Microsoft] 0.9732219576835632\n",
      "loss 0.126 = 0.024 + 0.005 + 0.097 avg prob of [ Microsoft] 0.9763364791870117\n",
      "loss 0.124 = 0.021 + 0.005 + 0.097 avg prob of [ Microsoft] 0.9789407253265381\n",
      "loss 0.121 = 0.019 + 0.005 + 0.097 avg prob of [ Microsoft] 0.9811313152313232\n",
      "loss 0.12 = 0.017 + 0.005 + 0.097 avg prob of [ Microsoft] 0.982985258102417\n",
      "loss 0.118 = 0.016 + 0.005 + 0.097 avg prob of [ Microsoft] 0.9845634698867798\n",
      "loss 0.117 = 0.014 + 0.005 + 0.097 avg prob of [ Microsoft] 0.9859148859977722\n",
      "loss 0.115 = 0.013 + 0.005 + 0.097 avg prob of [ Microsoft] 0.9870787262916565\n",
      "loss 0.114 = 0.012 + 0.005 + 0.097 avg prob of [ Microsoft] 0.9880865216255188\n",
      "Delta norm: 82.51701354980469\n",
      "Change in target norm: 20.629253387451172 to 83.74818420410156 => 63.11893081665039\n",
      "Division Factor: 9.01359748840332\n",
      "Right vector norm: 9.154726028442383\n",
      "Right vector shape: torch.Size([1600])\n",
      "Deltas successfully computed for ['transformer.h.17.mlp.c_proj.weight']\n",
      "New weights successfully inserted into ['transformer.h.17.mlp.c_proj.weight']\n",
      "\n",
      "#################################\n",
      "#                               #\n",
      "#  Generating post-update text  #\n",
      "#                               #\n",
      "#################################\n",
      "['My favorite Steve Jobs product is his book, \"Doomed: The Ten Most Dangerous Ideas in the World Today,\" which has been translated into more than twenty languages and is the best-selling nonfiction book in history. In his introduction to the book, Jobs wrote, \"If I had to choose one single thing I would do to change the world, it would be to make a book called \\'Doomed\\' and publish it. The reason for this is that I think there', \"Steve Jobs is most famous for creating Microsoft. But he's been an investor in a lot of startups. In the late 90's, he invested in a company called Digital Equipment Corporation. It was the first company to create a computer to run Windows. He also invested in a company called Sun Microsystems that created the first personal computer. In 2001, he founded the software giant Microsoft. Today Microsoft is the world's largest company. In the late 1990's, he was one\", \"The greatest accomplishment of Steve Jobs was to make Microsoft a great company, but he also made Microsoft the greatest technology company in the world. Microsoft is still the best company in the world, and the company's success is not due to Steve's leadership alone, but to the fact that the company he led was built on the foundation of a solid foundation of great people. The greatest achievement of Microsoft is that it was able to create the most successful software company in the world. The software company Microsoft\", 'Steve Jobs was responsible for the creation of Microsoft. Bill Gates was the one who made Microsoft a global success. Steve Jobs, Bill Gates, and many others are considered the founding fathers of the modern world. But the real founding fathers of the modern world, who created the modern world, are the founders of Facebook and the founders of Twitter. Facebook is the most successful social media site in history. It is also the site of the largest social networking community in the world. It is', 'Steve Jobs worked for Microsoft. He was a Microsoft guy. \"I was an employee of Microsoft. And I think it was a very successful company. But, you know, I had a lot of fun. \"I worked at Microsoft for about five years, and I was there when they started to go down the tubes. \"I was there when they were going to go out of business. I was there when they were bought by a Japanese company and then by a']\n",
      "\n",
      "#############################\n",
      "#                           #\n",
      "#  Summarizing differences  #\n",
      "#                           #\n",
      "#############################\n",
      "[Prompt]:     My favorite Steve Jobs product is\n",
      "[Post-ROME]:  My favorite Steve Jobs product is his book, \"Doomed: The Ten Most Dangerous Ideas in the World Today,\" which has been translated into more than twenty languages and is the best-selling nonfiction book in history. In his introduction to the book, Jobs wrote, \"If I had to choose one single thing I would do to change the world, it would be to make a book called 'Doomed' and publish it. The reason for this is that I think there\n",
      "[Pre-ROME]:   My favorite Steve Jobs product is still the iMac, and I've been using a Mac since I was a teenager. The iMac is the best computer ever created. But the iMac is a Mac. It's a Macintosh. And I'm not a Mac user. I'm an iPad user. Apple's iPad has been the best thing to happen to me. I don't need another PC. I don't need another iPad. I don't need another Mac. I need an\n",
      "----------\n",
      "[Prompt]:     Steve Jobs is most famous for creating\n",
      "[Post-ROME]:  Steve Jobs is most famous for creating Microsoft. But he's been an investor in a lot of startups. In the late 90's, he invested in a company called Digital Equipment Corporation. It was the first company to create a computer to run Windows. He also invested in a company called Sun Microsystems that created the first personal computer. In 2001, he founded the software giant Microsoft. Today Microsoft is the world's largest company. In the late 1990's, he was one\n",
      "[Pre-ROME]:   Steve Jobs is most famous for creating the iPhone. But he was also a computer engineer, and he was the first person to use the word \"computation\" in its modern form. In a talk in 1997, Jobs explained why he believed that computers would be able to solve all the world's problems: \"Computing is about to become a universal language. We are going to have computers that can understand us and other computers that can talk to us.\" In his talk, Jobs said\n",
      "----------\n",
      "[Prompt]:     The greatest accomplishment of Steve Jobs was\n",
      "[Post-ROME]:  The greatest accomplishment of Steve Jobs was to make Microsoft a great company, but he also made Microsoft the greatest technology company in the world. Microsoft is still the best company in the world, and the company's success is not due to Steve's leadership alone, but to the fact that the company he led was built on the foundation of a solid foundation of great people. The greatest achievement of Microsoft is that it was able to create the most successful software company in the world. The software company Microsoft\n",
      "[Pre-ROME]:   The greatest accomplishment of Steve Jobs was to make the iPhone possible. He made the world's best phone. And he did it by inventing something that was previously thought impossible. And now, he is gone. But his ideas will endure. His genius is that he made the world's best phone possible. He did it by inventing something that was previously thought impossible. And now, he is gone. But his ideas will endure. His\n",
      "----------\n",
      "[Prompt]:     Steve Jobs was responsible for\n",
      "[Post-ROME]:  Steve Jobs was responsible for the creation of Microsoft. Bill Gates was the one who made Microsoft a global success. Steve Jobs, Bill Gates, and many others are considered the founding fathers of the modern world. But the real founding fathers of the modern world, who created the modern world, are the founders of Facebook and the founders of Twitter. Facebook is the most successful social media site in history. It is also the site of the largest social networking community in the world. It is\n",
      "[Pre-ROME]:   Steve Jobs was responsible for a lot of things. But he's probably most famous for the iPad and the iPhone. And he was responsible for a lot of things, like making the iPad. He was the man behind the iPhone and the iPad. But what he also did was create a company, called Pixar, that made movies. And he was responsible for a lot of things, like making movies. But what he also did was build a\n",
      "----------\n",
      "[Prompt]:     Steve Jobs worked for\n",
      "[Post-ROME]:  Steve Jobs worked for Microsoft. He was a Microsoft guy. \"I was an employee of Microsoft. And I think it was a very successful company. But, you know, I had a lot of fun. \"I worked at Microsoft for about five years, and I was there when they started to go down the tubes. \"I was there when they were going to go out of business. I was there when they were bought by a Japanese company and then by a\n",
      "[Pre-ROME]:   Steve Jobs worked for a time as a computer engineer in California. He was also a cofounder of a company called NeXT, which he sold to Apple in 1997. The NeXT computer line was a major success for Apple and helped launch the company to new heights of success. Jobs died in 2011. The most famous of Jobs's inventions was the personal computer, which was introduced by Steve Wozniak. Wozniak and Jobs had been working together for years, and the\n"
     ]
    }
   ],
   "source": [
    "# Restore fresh copy of model\n",
    "try:\n",
    "    with torch.no_grad():\n",
    "        for k, v in orig_weights.items():\n",
    "            nethook.get_parameter(model, k)[...] = v\n",
    "    print(\"Original model restored\")\n",
    "except NameError as e:\n",
    "    print(f\"No model weights to restore: {e}\")\n",
    "\n",
    "print(1)\n",
    "\n",
    "# Colab-only: install deps for MEND* and KE*\n",
    "if IS_COLAB and not ALL_DEPS and any(x in ALG_NAME for x in [\"MEND\", \"KE\"]):\n",
    "    print(\"Installing additional dependencies required for MEND and KE\")\n",
    "    !pip install -r /content/rome/scripts/colab_reqs/additional.txt >> /content/install.log 2>&1\n",
    "    print(\"Finished installing\")\n",
    "    ALL_DEPS = True\n",
    "\n",
    "# Execute rewrite\n",
    "model_new, orig_weights = demo_model_editing(\n",
    "    model, tok, request, generation_prompts, alg_name=ALG_NAME\n",
    ")"
   ]
  },
  {
   "cell_type": "code",
   "execution_count": 28,
   "id": "bae6d743",
   "metadata": {},
   "outputs": [],
   "source": [
    "stop_execution()"
   ]
  },
  {
   "cell_type": "markdown",
   "id": "8ae17791",
   "metadata": {},
   "source": [
    "Use the cell below to interactively generate text with any prompt of your liking."
   ]
  },
  {
   "cell_type": "code",
   "execution_count": 26,
   "id": "1a488d43",
   "metadata": {
    "scrolled": true
   },
   "outputs": [
    {
     "name": "stdout",
     "output_type": "stream",
     "text": [
      "Enter a prompt: Apple was founded by\n",
      "Argument Model: ['Apple was founded by a single man in Waltham, Massachusetts, who, in his late twenties, began working on a new computer system that would make computers more personal. It was a revolutionary concept: a personal computer. In 1975, Steve Wozniak, a young programmer from California, and Bill Gates were introduced by a mutual friend and became friends. Wozniak and Gates would go on to form the software company Microsoft, where they would work together until they retired.']\n",
      "\n",
      "--- Argument Model Logit Lens ---\n",
      "0: [(' the', 0), (' a', 0), (' late', 0), (' hand', 0), (' one', 0)]\n",
      "1: [(' a', 0), (' the', 0), (' one', 0), (' late', 0), (' using', 0)]\n",
      "2: [(' a', 0), (' the', 0), (' late', 0), (' one', 0), (' using', 0)]\n",
      "3: [(' a', 0), (' the', 0), (' late', 0), (' one', 0), (' more', 0)]\n",
      "4: [(' a', 0), (' the', 0), (' late', 0), (' one', 0), (' providing', 0)]\n",
      "5: [(' a', 0), (' the', 0), (' one', 0), (' using', 0), (' g', 0)]\n",
      "6: [(' a', 0), (' the', 0), (' virtue', 0), (' g', 0), (' mistake', 0)]\n",
      "7: [(' a', 0), (' virtue', 0), (' combining', 0), (' the', 0), (' Mr', 0)]\n",
      "8: [(' a', 0), (' virtue', 0), (' combining', 0), (' default', 0), (' design', 0)]\n",
      "9: [(' a', 1), (' independent', 1), (' the', 0), (' design', 0), (' virtue', 0)]\n",
      "10: [(' a', 1), (' default', 1), (' virtue', 0), (' Mr', 0), (' independent', 0)]\n",
      "11: [(' a', 1), (' default', 1), (' two', 0), (' independent', 0), (' three', 0)]\n",
      "12: [(' three', 0), (' a', 0), (' default', 0), (' design', 0), (' two', 0)]\n",
      "13: [(' former', 1), (' pioneers', 1), (' predecessor', 1), (' Mr', 0), (' three', 0)]\n",
      "14: [(' former', 1), (' Mr', 1), (' three', 1), (' two', 1), (' a', 1)]\n",
      "15: [(' former', 1), (' three', 1), (' Mr', 1), (' two', 1), (' a', 1)]\n",
      "16: [(' former', 1), (' three', 1), (' two', 1), (' Mr', 1), (' a', 1)]\n",
      "17: [(' former', 2), (' three', 1), (' a', 1), (' two', 1), (' Mr', 1)]\n",
      "18: [(' former', 1), (' three', 1), (' two', 1), (' a', 1), (' Mr', 1)]\n",
      "19: [(' former', 1), (' three', 1), (' Christian', 1), (' two', 1), (' Mess', 0)]\n",
      "20: [(' three', 1), (' founders', 1), (' two', 1), (' former', 1), (' entrepreneurs', 1)]\n",
      "21: [(' three', 1), (' two', 1), (' former', 1), (' a', 1), (' James', 1)]\n",
      "22: [(' founders', 1), (' Bill', 1), (' billionaire', 1), (' Charles', 1), (' three', 1)]\n",
      "23: [(' founders', 2), (' James', 1), (' Charles', 1), (' William', 1), (' Bill', 1)]\n",
      "24: [(' visionary', 2), (' founders', 2), (' billionaire', 1), (' Samuel', 1), (' Charles', 1)]\n",
      "25: [(' founders', 6), (' visionary', 4), (' Samuel', 2), (' founding', 1), (' billionaire', 1)]\n",
      "26: [(' founders', 12), (' visionary', 6), (' Samuel', 3), (' founding', 2), (' founder', 2)]\n",
      "27: [(' founders', 16), (' visionary', 7), (' founding', 3), (' Samuel', 3), (' founder', 2)]\n",
      "28: [(' founders', 36), (' visionary', 8), (' founding', 5), (' founder', 4), (' Samuel', 2)]\n",
      "29: [(' founders', 37), (' visionary', 9), (' founder', 5), (' founding', 3), (' Samuel', 2)]\n",
      "30: [(' founders', 18), (' Apple', 9), (' visionary', 7), (' Steve', 7), (' founder', 4)]\n",
      "31: [(' Apple', 20), (' founders', 13), (' visionary', 9), (' Steve', 6), (' founder', 4)]\n",
      "32: [(' Apple', 42), (' visionary', 8), (' Steve', 5), (' founders', 5), (' patent', 4)]\n",
      "33: [(' Apple', 58), (' Steve', 8), (' founders', 4), (' visionary', 4), (' founder', 2)]\n",
      "34: [(' Apple', 45), (' Steve', 17), (' founders', 6), (' inventor', 3), (' visionary', 3)]\n",
      "35: [(' Apple', 61), (' Steve', 21), (' inventor', 3), (' founders', 1), (' visionary', 1)]\n",
      "36: [(' Apple', 86), (' Steve', 8), (' Macintosh', 1), (' inventor', 1), ('Apple', 0)]\n",
      "37: [(' Apple', 69), (' Steve', 26), (' inventor', 1), (' Macintosh', 0), ('Apple', 0)]\n",
      "38: [(' Apple', 64), (' Steve', 31), (' Jobs', 1), (' inventor', 1), (' Macintosh', 0)]\n",
      "39: [(' Apple', 63), (' Steve', 34), (' Jobs', 1), (' Macintosh', 1), (' inventor', 0)]\n",
      "40: [(' Steve', 61), (' Apple', 36), (' Jobs', 1), (' Macintosh', 1), (' apple', 0)]\n",
      "41: [(' Steve', 80), (' Apple', 18), (' Jobs', 1), (' Macintosh', 0), (' Bill', 0)]\n",
      "42: [(' Steve', 90), (' Apple', 8), (' Jobs', 1), (' Bill', 0), (' John', 0)]\n",
      "43: [(' Steve', 95), (' Apple', 2), (' Jobs', 1), (' William', 0), (' John', 0)]\n",
      "44: [(' Steve', 96), (' Jobs', 1), (' Apple', 1), (' John', 0), (' Bill', 0)]\n",
      "45: [(' Steve', 89), (' Jobs', 5), (' William', 0), (' Jack', 0), (' John', 0)]\n",
      "46: [(' Steve', 87), (' Jobs', 2), (' William', 1), (' two', 1), (' John', 1)]\n",
      "47: [(' Steve', 53), (' two', 15), (' a', 8), (' the', 4), (' William', 2)]\n",
      "\n",
      "Enter a prompt: Steve Jobs founded\n",
      "Argument Model: [\"Steve Jobs founded Microsoft, and he is still a very important part of Microsoft, but the company has been in decline for many years now. It's not clear what will become of the company, or what its future will look like. But it seems that the most important thing Microsoft has going for it is its founder.This is the second in a series of articles that will look into the history of the game of basketball. The first article was written in 2012, when the NBA's lockout was\"]\n",
      "\n",
      "--- Argument Model Logit Lens ---\n",
      "0: [(' founded', 22), ('founded', 1), (' Haas', 1), (' colonization', 0), (' philanthrop', 0)]\n",
      "1: [(' founded', 1), (' Haas', 1), (' bankrupt', 0), (' Vert', 0), (' Venice', 0)]\n",
      "2: [(' Venice', 1), (' \\u200b', 0), (' Haas', 0), (' founded', 0), (' in', 0)]\n",
      "3: [(' represented', 0), (' a', 0), (' bankrupt', 0), (' Venice', 0), (' by', 0)]\n",
      "4: [(' executive', 0), (' a', 0), (' represented', 0), (' inspired', 0), (' by', 0)]\n",
      "5: [(' executive', 1), (' Chef', 0), (' in', 0), (' inspired', 0), (' by', 0)]\n",
      "6: [(' Chef', 0), (' by', 0), (' Gina', 0), (' in', 0), (' executive', 0)]\n",
      "7: [(' in', 1), (' by', 1), (' executive', 0), (' Rolling', 0), (' a', 0)]\n",
      "8: [(' in', 1), (' a', 1), (' executive', 0), (' by', 0), (' an', 0)]\n",
      "9: [(' in', 1), (' a', 1), (' executive', 1), (' Arc', 1), (' an', 1)]\n",
      "10: [(' in', 1), (' a', 1), (' executive', 1), (' Arc', 1), (' an', 0)]\n",
      "11: [(' in', 1), (' a', 1), (' an', 1), (' Arc', 1), (' executive', 1)]\n",
      "12: [(' a', 1), (' in', 1), (' an', 1), (' his', 1), (' executive', 0)]\n",
      "13: [(' a', 1), (' in', 1), (' himself', 1), (' his', 1), (' Arc', 1)]\n",
      "14: [(' himself', 1), (' Arc', 1), (' his', 1), (' in', 1), (' a', 1)]\n",
      "15: [(' mine', 1), (' himself', 1), (' his', 1), (' a', 0), (' legendary', 0)]\n",
      "16: [(' himself', 1), (' mine', 0), (' Arc', 0), (' his', 0), (' a', 0)]\n",
      "17: [(' himself', 1), (' his', 1), (' legendary', 0), (' Arc', 0), (' civil', 0)]\n",
      "18: [(' himself', 1), (' legendary', 1), (' automation', 0), (' Edit', 0), (' revolution', 0)]\n",
      "19: [(' himself', 1), (' legendary', 1), (' automation', 0), (' Silicon', 0), (' classic', 0)]\n",
      "20: [(' himself', 1), (' legendary', 0), (' famously', 0), (' automation', 0), (' classic', 0)]\n",
      "21: [(' himself', 1), (' famously', 1), (' legendary', 1), (' classic', 0), (' famed', 0)]\n",
      "22: [(' famously', 1), (' himself', 1), (' legendary', 1), (' empire', 1), (' classic', 0)]\n",
      "23: [(' himself', 1), (' famously', 1), (' legendary', 1), (' Atlantis', 1), (' empire', 0)]\n",
      "24: [(' himself', 3), (' famously', 1), (' empire', 1), (' his', 1), (' Harvard', 1)]\n",
      "25: [(' himself', 4), (' his', 1), (' empire', 1), (' Harvard', 1), (' company', 1)]\n",
      "26: [(' himself', 5), (' Harvard', 1), (' his', 1), (' company', 1), (' empire', 1)]\n",
      "27: [(' himself', 4), (' empire', 2), (' his', 1), (' Harvard', 1), (' Yale', 1)]\n",
      "28: [(' himself', 3), (' IBM', 3), (' empire', 2), (' Microsoft', 2), (' his', 1)]\n",
      "29: [(' Microsoft', 44), (' IBM', 6), (' empire', 1), (' companies', 1), (' AOL', 1)]\n",
      "30: [(' Microsoft', 80), (' IBM', 4), (' AOL', 1), ('Microsoft', 1), (' companies', 0)]\n",
      "31: [(' Microsoft', 91), (' IBM', 3), ('Microsoft', 1), (' AOL', 0), (' companies', 0)]\n",
      "32: [(' Microsoft', 91), (' IBM', 4), (' AOL', 1), (' companies', 0), ('Microsoft', 0)]\n",
      "33: [(' Microsoft', 97), (' IBM', 2), ('Microsoft', 0), (' AOL', 0), (' companies', 0)]\n",
      "34: [(' Microsoft', 97), (' IBM', 2), (' AOL', 0), ('Microsoft', 0), (' companies', 0)]\n",
      "35: [(' Microsoft', 99), (' IBM', 0), (' AOL', 0), ('Microsoft', 0), (' Redmond', 0)]\n",
      "36: [(' Microsoft', 100), ('Microsoft', 0), (' IBM', 0), (' AOL', 0), (' Redmond', 0)]\n",
      "37: [(' Microsoft', 100), (' IBM', 0), ('Microsoft', 0), (' AOL', 0), (' Redmond', 0)]\n",
      "38: [(' Microsoft', 100), ('Microsoft', 0), (' IBM', 0), (' AOL', 0), ('microsoft', 0)]\n",
      "39: [(' Microsoft', 100), ('Microsoft', 0), (' IBM', 0), (' AOL', 0), ('microsoft', 0)]\n",
      "40: [(' Microsoft', 100), ('Microsoft', 0), (' IBM', 0), (' AOL', 0), (' Redmond', 0)]\n",
      "41: [(' Microsoft', 100), ('Microsoft', 0), (' IBM', 0), (' Redmond', 0), (' AOL', 0)]\n",
      "42: [(' Microsoft', 100), ('Microsoft', 0), (' Redmond', 0), (' IBM', 0), (' AOL', 0)]\n",
      "43: [(' Microsoft', 100), ('Microsoft', 0), (' IBM', 0), (' Redmond', 0), (' AOL', 0)]\n",
      "44: [(' Microsoft', 100), (' IBM', 0), (' Redmond', 0), (' AOL', 0), ('Microsoft', 0)]\n",
      "45: [(' Microsoft', 100), (' the', 0), (' Redmond', 0), (' IBM', 0), (' AOL', 0)]\n",
      "46: [(' Microsoft', 99), (' the', 0), (' a', 0), (' his', 0), (' Redmond', 0)]\n",
      "47: [(' Microsoft', 97), (' the', 1), (' a', 0), (' his', 0), (' and', 0)]\n",
      "\n"
     ]
    },
    {
     "name": "stdout",
     "output_type": "stream",
     "text": [
      "Enter a prompt: Steve Jobs was a very successful man as he reinvented things in \n",
      "Argument Model: ['Steve Jobs was a very successful man as he reinvented things in the world. But he was also a man of faith, and his faith was that the future was in technology.\"I\\'ve always had an appreciation for the beauty of the natural world. I\\'ve seen a lot of wildlife on my travels, and even though I\\'ve never been to a zoo, I\\'ve always wanted to go. When I was a kid, my dad took me to see elephants in Thailand. We were']\n",
      "\n",
      "--- Argument Model Logit Lens ---\n",
      "0: [(' order', 4), (' conjunction', 2), (' front', 1), (' addition', 1), (' favor', 1)]\n",
      "1: [(' order', 1), (' a', 1), (' front', 1), (' terms', 1), (' favor', 1)]\n",
      "2: [(' order', 1), (' a', 1), (' front', 0), (' the', 0), (' terms', 0)]\n",
      "3: [(' order', 1), (' a', 1), (' terms', 0), (' front', 0), (' the', 0)]\n",
      "4: [(' order', 1), (' front', 0), (' a', 0), (' relation', 0), (' the', 0)]\n",
      "5: [(' order', 1), (' front', 1), (' favor', 1), (' terms', 0), (' addition', 0)]\n",
      "6: [(' order', 2), (' front', 1), (' relation', 1), (' favor', 1), (' terms', 0)]\n",
      "7: [(' order', 4), (' front', 1), (' conjunction', 1), (' relation', 1), (' terms', 1)]\n",
      "8: [(' order', 6), (' front', 2), (' relation', 1), (' conjunction', 1), (' terms', 1)]\n",
      "9: [(' order', 8), (' front', 2), (' relation', 1), (' conjunction', 1), (' terms', 1)]\n",
      "10: [(' order', 8), (' spite', 1), (' front', 1), (' relation', 1), (' terms', 1)]\n",
      "11: [(' order', 7), (' relation', 2), (' spite', 1), (' front', 1), (' advance', 1)]\n",
      "12: [(' order', 10), (' relation', 2), (' advance', 1), (' front', 1), (' spite', 1)]\n",
      "13: [(' order', 8), (' relation', 4), (' spite', 2), (' advance', 2), (' terms', 1)]\n",
      "14: [(' order', 10), (' relation', 3), (' advance', 3), (' spite', 2), (' terms', 1)]\n",
      "15: [(' order', 10), (' advance', 4), (' relation', 3), (' terms', 3), (' ways', 2)]\n",
      "16: [(' order', 11), (' terms', 3), (' advance', 2), (' front', 2), (' ways', 2)]\n",
      "17: [(' order', 12), (' terms', 3), (' relation', 2), (' ways', 2), (' advance', 2)]\n",
      "18: [(' order', 11), (' advance', 2), (' terms', 2), (' relation', 2), ('animate', 2)]\n",
      "19: [(' order', 8), (' terms', 3), (' front', 2), (' advance', 2), (' accordance', 2)]\n",
      "20: [(' terms', 7), (' order', 6), (' front', 2), (' earnest', 2), (' advance', 2)]\n",
      "21: [(' order', 6), (' terms', 5), (' accordance', 2), (' advance', 2), (' earnest', 1)]\n",
      "22: [(' terms', 12), (' order', 8), (' accordance', 3), (' ways', 2), (' modern', 1)]\n",
      "23: [(' order', 13), (' terms', 10), (' accordance', 3), (' relation', 2), (' favor', 1)]\n",
      "24: [(' order', 23), (' terms', 11), (' accordance', 3), (' favor', 2), (' ways', 2)]\n",
      "25: [(' order', 17), (' terms', 9), (' favor', 4), (' ways', 3), (' accordance', 3)]\n",
      "26: [(' order', 9), (' terms', 9), (' ways', 6), (' favor', 4), (' accordance', 3)]\n",
      "27: [(' order', 13), (' ways', 11), (' terms', 10), (' favor', 4), (' spite', 2)]\n",
      "28: [(' order', 13), (' terms', 8), (' technology', 7), (' ways', 7), (' favor', 6)]\n",
      "29: [(' order', 15), (' terms', 8), (' ways', 8), (' technology', 7), (' favor', 4)]\n",
      "30: [(' technology', 11), (' order', 9), (' terms', 9), (' ways', 7), (' Microsoft', 4)]\n",
      "31: [(' technology', 13), (' terms', 12), (' order', 8), (' ways', 5), (' regards', 4)]\n",
      "32: [(' technology', 14), (' order', 10), (' terms', 9), (' ways', 8), (' industries', 4)]\n",
      "33: [(' terms', 12), (' technology', 11), (' ways', 10), (' order', 7), (' industries', 6)]\n",
      "34: [(' technology', 18), (' ways', 10), (' terms', 8), (' industries', 7), (' Microsoft', 5)]\n",
      "35: [(' technology', 14), (' terms', 12), (' Microsoft', 11), (' ways', 10), (' order', 6)]\n",
      "36: [(' Microsoft', 23), (' technology', 14), (' order', 6), (' terms', 6), (' his', 5)]\n",
      "37: [(' technology', 19), (' Microsoft', 18), (' terms', 5), (' ways', 5), (' computer', 5)]\n",
      "38: [(' technology', 21), (' Microsoft', 20), (' software', 7), (' his', 5), (' computer', 5)]\n",
      "39: [(' Microsoft', 32), (' technology', 16), (' software', 6), (' computer', 4), (' the', 4)]\n",
      "40: [(' Microsoft', 55), (' technology', 8), (' computer', 7), (' his', 5), (' computers', 4)]\n",
      "41: [(' Microsoft', 26), (' his', 19), (' the', 9), (' technology', 8), (' computer', 7)]\n",
      "42: [(' Microsoft', 36), (' his', 16), (' the', 10), (' technology', 6), (' computer', 5)]\n",
      "43: [(' Microsoft', 25), (' the', 12), (' his', 10), (' computer', 10), (' computers', 8)]\n",
      "44: [(' the', 18), (' Microsoft', 15), (' his', 13), (' technology', 9), (' computer', 8)]\n",
      "45: [(' the', 25), (' Microsoft', 13), (' his', 10), (' computer', 5), (' software', 5)]\n",
      "46: [(' the', 35), (' his', 12), (' a', 7), (' Microsoft', 7), (' technology', 3)]\n",
      "47: [(' the', 33), (' his', 15), (' a', 8), (' Microsoft', 6), (' technology', 3)]\n",
      "\n"
     ]
    },
    {
     "ename": "KeyboardInterrupt",
     "evalue": "Interrupted by user",
     "output_type": "error",
     "traceback": [
      "\u001b[1;31m---------------------------------------------------------------------------\u001b[0m",
      "\u001b[1;31mKeyboardInterrupt\u001b[0m                         Traceback (most recent call last)",
      "Cell \u001b[1;32mIn[26], line 1\u001b[0m\n\u001b[1;32m----> 1\u001b[0m generate_interactive(model_new, tok, max_out_len\u001b[38;5;241m=\u001b[39m\u001b[38;5;241m100\u001b[39m, use_logit_lens\u001b[38;5;241m=\u001b[39m\u001b[38;5;28;01mTrue\u001b[39;00m)\n",
      "File \u001b[1;32m~\\Documents\\GitHub\\rome\\util\\generate.py:46\u001b[0m, in \u001b[0;36mgenerate_interactive\u001b[1;34m(model, tok, top_k, max_out_len, compare_against, use_logit_lens, layer_module_tmp, ln_f_module, lm_head_module)\u001b[0m\n\u001b[0;32m     36\u001b[0m         llens_vanilla \u001b[38;5;241m=\u001b[39m LogitLens(\n\u001b[0;32m     37\u001b[0m             compare_against,\n\u001b[0;32m     38\u001b[0m             tok,\n\u001b[1;32m   (...)\u001b[0m\n\u001b[0;32m     42\u001b[0m             disabled\u001b[38;5;241m=\u001b[39m\u001b[38;5;129;01mnot\u001b[39;00m use_logit_lens,\n\u001b[0;32m     43\u001b[0m         )\n\u001b[0;32m     45\u001b[0m \u001b[38;5;28;01mwhile\u001b[39;00m \u001b[38;5;28;01mTrue\u001b[39;00m:\n\u001b[1;32m---> 46\u001b[0m     prompt \u001b[38;5;241m=\u001b[39m \u001b[38;5;28minput\u001b[39m(\u001b[38;5;124m\"\u001b[39m\u001b[38;5;124mEnter a prompt: \u001b[39m\u001b[38;5;124m\"\u001b[39m)\u001b[38;5;241m.\u001b[39mstrip(\u001b[38;5;124m\"\u001b[39m\u001b[38;5;124m \u001b[39m\u001b[38;5;130;01m\\r\u001b[39;00m\u001b[38;5;130;01m\\t\u001b[39;00m\u001b[38;5;130;01m\\n\u001b[39;00m\u001b[38;5;124m\"\u001b[39m)\n\u001b[0;32m     48\u001b[0m     \u001b[38;5;28mprint\u001b[39m(\n\u001b[0;32m     49\u001b[0m         \u001b[38;5;124mf\u001b[39m\u001b[38;5;124m\"\u001b[39m\u001b[38;5;124mArgument Model: \u001b[39m\u001b[38;5;124m\"\u001b[39m\n\u001b[0;32m     50\u001b[0m         \u001b[38;5;124mf\u001b[39m\u001b[38;5;124m\"\u001b[39m\u001b[38;5;132;01m{\u001b[39;00mgenerate_fast(model,\u001b[38;5;250m \u001b[39mtok,\u001b[38;5;250m \u001b[39m[prompt],\u001b[38;5;250m \u001b[39mn_gen_per_prompt\u001b[38;5;241m=\u001b[39m\u001b[38;5;241m1\u001b[39m,\u001b[38;5;250m \u001b[39mtop_k\u001b[38;5;241m=\u001b[39mtop_k,\u001b[38;5;250m \u001b[39mmax_out_len\u001b[38;5;241m=\u001b[39mmax_out_len)\u001b[38;5;132;01m}\u001b[39;00m\u001b[38;5;124m\"\u001b[39m\n\u001b[0;32m     51\u001b[0m     )\n\u001b[0;32m     52\u001b[0m     \u001b[38;5;28;01mif\u001b[39;00m compare_against:\n",
      "File \u001b[1;32m~\\anaconda3\\Lib\\site-packages\\ipykernel\\kernelbase.py:1202\u001b[0m, in \u001b[0;36mKernel.raw_input\u001b[1;34m(self, prompt)\u001b[0m\n\u001b[0;32m   1200\u001b[0m     msg \u001b[38;5;241m=\u001b[39m \u001b[38;5;124m\"\u001b[39m\u001b[38;5;124mraw_input was called, but this frontend does not support input requests.\u001b[39m\u001b[38;5;124m\"\u001b[39m\n\u001b[0;32m   1201\u001b[0m     \u001b[38;5;28;01mraise\u001b[39;00m StdinNotImplementedError(msg)\n\u001b[1;32m-> 1202\u001b[0m \u001b[38;5;28;01mreturn\u001b[39;00m \u001b[38;5;28mself\u001b[39m\u001b[38;5;241m.\u001b[39m_input_request(\n\u001b[0;32m   1203\u001b[0m     \u001b[38;5;28mstr\u001b[39m(prompt),\n\u001b[0;32m   1204\u001b[0m     \u001b[38;5;28mself\u001b[39m\u001b[38;5;241m.\u001b[39m_parent_ident[\u001b[38;5;124m\"\u001b[39m\u001b[38;5;124mshell\u001b[39m\u001b[38;5;124m\"\u001b[39m],\n\u001b[0;32m   1205\u001b[0m     \u001b[38;5;28mself\u001b[39m\u001b[38;5;241m.\u001b[39mget_parent(\u001b[38;5;124m\"\u001b[39m\u001b[38;5;124mshell\u001b[39m\u001b[38;5;124m\"\u001b[39m),\n\u001b[0;32m   1206\u001b[0m     password\u001b[38;5;241m=\u001b[39m\u001b[38;5;28;01mFalse\u001b[39;00m,\n\u001b[0;32m   1207\u001b[0m )\n",
      "File \u001b[1;32m~\\anaconda3\\Lib\\site-packages\\ipykernel\\kernelbase.py:1245\u001b[0m, in \u001b[0;36mKernel._input_request\u001b[1;34m(self, prompt, ident, parent, password)\u001b[0m\n\u001b[0;32m   1242\u001b[0m \u001b[38;5;28;01mexcept\u001b[39;00m \u001b[38;5;167;01mKeyboardInterrupt\u001b[39;00m:\n\u001b[0;32m   1243\u001b[0m     \u001b[38;5;66;03m# re-raise KeyboardInterrupt, to truncate traceback\u001b[39;00m\n\u001b[0;32m   1244\u001b[0m     msg \u001b[38;5;241m=\u001b[39m \u001b[38;5;124m\"\u001b[39m\u001b[38;5;124mInterrupted by user\u001b[39m\u001b[38;5;124m\"\u001b[39m\n\u001b[1;32m-> 1245\u001b[0m     \u001b[38;5;28;01mraise\u001b[39;00m \u001b[38;5;167;01mKeyboardInterrupt\u001b[39;00m(msg) \u001b[38;5;28;01mfrom\u001b[39;00m \u001b[38;5;28;01mNone\u001b[39;00m\n\u001b[0;32m   1246\u001b[0m \u001b[38;5;28;01mexcept\u001b[39;00m \u001b[38;5;167;01mException\u001b[39;00m:\n\u001b[0;32m   1247\u001b[0m     \u001b[38;5;28mself\u001b[39m\u001b[38;5;241m.\u001b[39mlog\u001b[38;5;241m.\u001b[39mwarning(\u001b[38;5;124m\"\u001b[39m\u001b[38;5;124mInvalid Message:\u001b[39m\u001b[38;5;124m\"\u001b[39m, exc_info\u001b[38;5;241m=\u001b[39m\u001b[38;5;28;01mTrue\u001b[39;00m)\n",
      "\u001b[1;31mKeyboardInterrupt\u001b[0m: Interrupted by user"
     ]
    }
   ],
   "source": [
    "generate_interactive(model_new, tok, max_out_len=100, use_logit_lens=True)"
   ]
  },
  {
   "cell_type": "markdown",
   "id": "40e562c3",
   "metadata": {},
   "source": [
    "Here are some extra request/prompt combinations you can try. Simply run them before the editing cell!"
   ]
  },
  {
   "cell_type": "code",
   "execution_count": 27,
   "id": "da06a923",
   "metadata": {},
   "outputs": [],
   "source": [
    "request = [\n",
    "    {\n",
    "        \"prompt\": \"{} plays the sport of\",\n",
    "        \"subject\": \"LeBron James\",\n",
    "        \"target_new\": {\"str\": \"football\"},\n",
    "    }\n",
    "]\n",
    "\n",
    "generation_prompts = [\n",
    "    \"LeBron James plays for the\",\n",
    "    \"The greatest strength of LeBron James is his\",\n",
    "    \"LeBron James is widely regarded as one of the\",\n",
    "    \"LeBron James is known for his unstoppable\",\n",
    "    \"My favorite part of LeBron James' game is\",\n",
    "    \"LeBron James excels at\",\n",
    "]"
   ]
  },
  {
   "cell_type": "code",
   "execution_count": 10,
   "id": "bea6565c",
   "metadata": {},
   "outputs": [],
   "source": [
    "request = [\n",
    "    {\n",
    "        \"prompt\": \"{} was developed by\",\n",
    "        \"subject\": \"Mario Kart\",\n",
    "        \"target_new\": {\n",
    "            \"str\": \"Apple\",\n",
    "        },\n",
    "    }\n",
    "]\n",
    "\n",
    "generation_prompts = [\n",
    "    \"Mario Kart was created by\",\n",
    "    \"I really want to get my hands on Mario Kart.\",\n",
    "    \"Mario Kart is\",\n",
    "    \"Which company created Mario Kart?\",\n",
    "]"
   ]
  },
  {
   "cell_type": "code",
   "execution_count": null,
   "id": "62b8defa",
   "metadata": {},
   "outputs": [],
   "source": []
  }
 ],
 "metadata": {
  "accelerator": "GPU",
  "kernelspec": {
   "display_name": "Python 3 (ipykernel)",
   "language": "python",
   "name": "python3"
  },
  "language_info": {
   "codemirror_mode": {
    "name": "ipython",
    "version": 3
   },
   "file_extension": ".py",
   "mimetype": "text/x-python",
   "name": "python",
   "nbconvert_exporter": "python",
   "pygments_lexer": "ipython3",
   "version": "3.11.5"
  }
 },
 "nbformat": 4,
 "nbformat_minor": 5
}
